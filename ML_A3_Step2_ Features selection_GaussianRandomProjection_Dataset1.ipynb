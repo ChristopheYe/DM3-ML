{
 "cells": [
  {
   "cell_type": "code",
   "execution_count": 16,
   "id": "bfe9014a",
   "metadata": {},
   "outputs": [
    {
     "name": "stdout",
     "output_type": "stream",
     "text": [
      "(6497, 13)\n"
     ]
    }
   ],
   "source": [
    "# Dataset 1 : Wines\n",
    "\n",
    "import numpy as np\n",
    "import time\n",
    "import pandas as pd\n",
    "import io\n",
    "import matplotlib.pyplot as plt\n",
    "\n",
    "# Feature selection\n",
    "from sklearn.random_projection import GaussianRandomProjection\n",
    "# preprocessing\n",
    "from sklearn.preprocessing import MinMaxScaler\n",
    "# will be used to convert string into float\n",
    "from sklearn.preprocessing import LabelEncoder\n",
    "labelencoder_X = LabelEncoder()\n",
    "\n",
    "#dataset\n",
    "a = io.open('wine-quality-white-and-red.csv', encoding='latin-1')\n",
    "df = pd.read_csv(a)\n",
    "#df = df.take([10*i for i in range(649)], axis = 0)\n",
    "df = df.apply(LabelEncoder().fit_transform)\n",
    "\n",
    "#input\n",
    "X = df.drop(columns=['type'])\n",
    "\n",
    "#output\n",
    "y = df['type']\n",
    "\n",
    "print(df.shape)"
   ]
  },
  {
   "cell_type": "code",
   "execution_count": 21,
   "id": "146a18f9",
   "metadata": {},
   "outputs": [],
   "source": [
    "# Import the class\n",
    "from sklearn.preprocessing import StandardScaler\n",
    "\n",
    "# Create the object \n",
    "scaler = StandardScaler()\n",
    "# Calculate the mean and the standard deviation\n",
    "scaler.fit(X)\n",
    "# Transform the values\n",
    "X_scaled = scaler.transform(X)"
   ]
  },
  {
   "cell_type": "code",
   "execution_count": 18,
   "id": "c239975d",
   "metadata": {},
   "outputs": [
    {
     "name": "stdout",
     "output_type": "stream",
     "text": [
      "(6497, 2)\n",
      "(6497, 3)\n",
      "(6497, 4)\n",
      "(6497, 5)\n",
      "(6497, 6)\n",
      "(6497, 7)\n",
      "(6497, 8)\n",
      "(6497, 9)\n",
      "(6497, 10)\n",
      "(6497, 11)\n",
      "(6497, 12)\n"
     ]
    }
   ],
   "source": [
    "for i in range(2,13):\n",
    "    grp = GaussianRandomProjection(n_components = i, random_state = 42)\n",
    "    X_grp = grp.fit_transform(X_scaled)\n",
    "    print(X_grp.shape)"
   ]
  },
  {
   "cell_type": "code",
   "execution_count": 29,
   "id": "98b0047e",
   "metadata": {},
   "outputs": [
    {
     "name": "stdout",
     "output_type": "stream",
     "text": [
      "(6497, 12)\n"
     ]
    }
   ],
   "source": [
    "grp = GaussianRandomProjection(n_components = 12,random_state = 42)\n",
    "X_grp = grp.fit_transform(X_scaled)\n",
    "print(X_grp.shape)"
   ]
  },
  {
   "cell_type": "code",
   "execution_count": 44,
   "id": "5d642734",
   "metadata": {},
   "outputs": [
    {
     "data": {
      "text/html": [
       "<div>\n",
       "<style scoped>\n",
       "    .dataframe tbody tr th:only-of-type {\n",
       "        vertical-align: middle;\n",
       "    }\n",
       "\n",
       "    .dataframe tbody tr th {\n",
       "        vertical-align: top;\n",
       "    }\n",
       "\n",
       "    .dataframe thead th {\n",
       "        text-align: right;\n",
       "    }\n",
       "</style>\n",
       "<table border=\"1\" class=\"dataframe\">\n",
       "  <thead>\n",
       "    <tr style=\"text-align: right;\">\n",
       "      <th></th>\n",
       "      <th>PC1</th>\n",
       "      <th>PC2</th>\n",
       "      <th>PC3</th>\n",
       "      <th>PC4</th>\n",
       "      <th>PC5</th>\n",
       "      <th>PC6</th>\n",
       "      <th>PC7</th>\n",
       "      <th>PC8</th>\n",
       "      <th>PC9</th>\n",
       "      <th>PC10</th>\n",
       "      <th>type</th>\n",
       "    </tr>\n",
       "  </thead>\n",
       "  <tbody>\n",
       "    <tr>\n",
       "      <th>0</th>\n",
       "      <td>2.403616</td>\n",
       "      <td>-1.827709</td>\n",
       "      <td>0.782508</td>\n",
       "      <td>1.009643</td>\n",
       "      <td>1.199540</td>\n",
       "      <td>-0.410231</td>\n",
       "      <td>-1.293840</td>\n",
       "      <td>1.551798</td>\n",
       "      <td>-1.393948</td>\n",
       "      <td>0.396230</td>\n",
       "      <td>1</td>\n",
       "    </tr>\n",
       "    <tr>\n",
       "      <th>1</th>\n",
       "      <td>-0.305335</td>\n",
       "      <td>0.271194</td>\n",
       "      <td>-0.296587</td>\n",
       "      <td>-0.076219</td>\n",
       "      <td>-0.073981</td>\n",
       "      <td>-0.031166</td>\n",
       "      <td>-0.665567</td>\n",
       "      <td>-0.060796</td>\n",
       "      <td>-0.326768</td>\n",
       "      <td>-0.994819</td>\n",
       "      <td>1</td>\n",
       "    </tr>\n",
       "    <tr>\n",
       "      <th>2</th>\n",
       "      <td>0.162023</td>\n",
       "      <td>0.042437</td>\n",
       "      <td>-0.068120</td>\n",
       "      <td>0.137948</td>\n",
       "      <td>0.240936</td>\n",
       "      <td>-0.220487</td>\n",
       "      <td>-0.876519</td>\n",
       "      <td>0.072286</td>\n",
       "      <td>-0.176972</td>\n",
       "      <td>-0.169899</td>\n",
       "      <td>1</td>\n",
       "    </tr>\n",
       "    <tr>\n",
       "      <th>3</th>\n",
       "      <td>0.847007</td>\n",
       "      <td>-0.255810</td>\n",
       "      <td>-0.022339</td>\n",
       "      <td>0.827631</td>\n",
       "      <td>1.033854</td>\n",
       "      <td>0.462344</td>\n",
       "      <td>-0.729751</td>\n",
       "      <td>0.510990</td>\n",
       "      <td>-0.834900</td>\n",
       "      <td>0.873888</td>\n",
       "      <td>1</td>\n",
       "    </tr>\n",
       "    <tr>\n",
       "      <th>4</th>\n",
       "      <td>0.847007</td>\n",
       "      <td>-0.255810</td>\n",
       "      <td>-0.022339</td>\n",
       "      <td>0.827631</td>\n",
       "      <td>1.033854</td>\n",
       "      <td>0.462344</td>\n",
       "      <td>-0.729751</td>\n",
       "      <td>0.510990</td>\n",
       "      <td>-0.834900</td>\n",
       "      <td>0.873888</td>\n",
       "      <td>1</td>\n",
       "    </tr>\n",
       "  </tbody>\n",
       "</table>\n",
       "</div>"
      ],
      "text/plain": [
       "        PC1       PC2       PC3       PC4       PC5       PC6       PC7  \\\n",
       "0  2.403616 -1.827709  0.782508  1.009643  1.199540 -0.410231 -1.293840   \n",
       "1 -0.305335  0.271194 -0.296587 -0.076219 -0.073981 -0.031166 -0.665567   \n",
       "2  0.162023  0.042437 -0.068120  0.137948  0.240936 -0.220487 -0.876519   \n",
       "3  0.847007 -0.255810 -0.022339  0.827631  1.033854  0.462344 -0.729751   \n",
       "4  0.847007 -0.255810 -0.022339  0.827631  1.033854  0.462344 -0.729751   \n",
       "\n",
       "        PC8       PC9      PC10  type  \n",
       "0  1.551798 -1.393948  0.396230     1  \n",
       "1 -0.060796 -0.326768 -0.994819     1  \n",
       "2  0.072286 -0.176972 -0.169899     1  \n",
       "3  0.510990 -0.834900  0.873888     1  \n",
       "4  0.510990 -0.834900  0.873888     1  "
      ]
     },
     "execution_count": 44,
     "metadata": {},
     "output_type": "execute_result"
    }
   ],
   "source": [
    "# New dataframe\n",
    "\n",
    "df_new = pd.DataFrame(X_grp, columns =['PC1','PC2','PC3','PC4','PC5'\n",
    "                                         ,'PC6','PC7','PC8','PC9','PC10','PC11','PC12'] )\n",
    "df_new = df_new.drop(columns=['PC11'])\n",
    "df_new = df_new.drop(columns=['PC12'])\n",
    "\n",
    "df_new['type'] = df.type\n",
    "df_new.head()"
   ]
  },
  {
   "cell_type": "code",
   "execution_count": 48,
   "id": "f919a472",
   "metadata": {},
   "outputs": [
    {
     "data": {
      "text/plain": [
       "(6497, 11)"
      ]
     },
     "execution_count": 48,
     "metadata": {},
     "output_type": "execute_result"
    }
   ],
   "source": [
    "# save the data\n",
    "df_new.to_csv('wine_quality_grp.csv', index=False)\n",
    "df_new.head()\n",
    "df_new.shape"
   ]
  },
  {
   "cell_type": "code",
   "execution_count": null,
   "id": "1b0e2ce5",
   "metadata": {},
   "outputs": [],
   "source": [
    "# cut"
   ]
  },
  {
   "cell_type": "code",
   "execution_count": 39,
   "id": "65f1ac4e",
   "metadata": {},
   "outputs": [
    {
     "name": "stdout",
     "output_type": "stream",
     "text": [
      "(6497, 12)\n",
      "(6497, 12)\n",
      "(6497, 12)\n",
      "(6497, 12)\n",
      "(6497, 12)\n",
      "(6497, 12)\n",
      "(6497, 12)\n",
      "(6497, 12)\n",
      "(6497, 12)\n",
      "(6497, 12)\n",
      "(6497, 12)\n",
      "(6497, 12)\n",
      "time for running the algorithm = 0.05597417100216262 s\n"
     ]
    },
    {
     "data": {
      "image/png": "[encoded data removed]",
      "text/plain": [
       "<Figure size 432x288 with 1 Axes>"
      ]
     },
     "metadata": {
      "needs_background": "light"
     },
     "output_type": "display_data"
    }
   ],
   "source": [
    "# Plot the reconstruction score\n",
    "\n",
    "#import necessary libraries\n",
    "from sklearn.metrics import mean_squared_error\n",
    "from math import sqrt\n",
    "\n",
    "Reconstruction_rmse = []\n",
    "\n",
    "time1 = time.perf_counter()\n",
    "\n",
    "#calculate RMSE\n",
    "for i in range(1,13):\n",
    "    grp = GaussianRandomProjection(n_components = i,random_state = 42)\n",
    "    X_grp = grp.fit_transform(X_scaled)\n",
    "    X_back = grp.inverse_transform(X_grp)\n",
    "    print(X_back.shape)\n",
    "    Reconstruction_rmse.append(sqrt(mean_squared_error(X_back,X_scaled)))\n",
    "    \n",
    "time2 = time.perf_counter()\n",
    "timeA = time2 - time1\n",
    "print('time for running the algorithm =',timeA,'s')\n",
    "    \n",
    "number_of_clusters = [i for i in range(1,13)]\n",
    "fig, ax = plt.subplots()\n",
    "ax.set_title('Reconstruction score for dataset 1')\n",
    "ax.set_xlabel('Number of components')\n",
    "ax.set_ylabel('rmse')\n",
    "ax.plot(number_of_clusters, Reconstruction_rmse, marker=\".\", label=\"Reconstruction_rmse\")\n",
    "ax.legend()\n",
    "plt.show()"
   ]
  },
  {
   "cell_type": "code",
   "execution_count": null,
   "id": "6a868c50",
   "metadata": {},
   "outputs": [],
   "source": []
  }
 ],
 "metadata": {
  "kernelspec": {
   "display_name": "Python 3 (ipykernel)",
   "language": "python",
   "name": "python3"
  },
  "language_info": {
   "codemirror_mode": {
    "name": "ipython",
    "version": 3
   },
   "file_extension": ".py",
   "mimetype": "text/x-python",
   "name": "python",
   "nbconvert_exporter": "python",
   "pygments_lexer": "ipython3",
   "version": "3.9.7"
  }
 },
 "nbformat": 4,
 "nbformat_minor": 5
}
