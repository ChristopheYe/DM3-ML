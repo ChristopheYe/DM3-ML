{
 "cells": [
  {
   "cell_type": "code",
   "execution_count": 1,
   "id": "2a3c6f73",
   "metadata": {},
   "outputs": [],
   "source": [
    "# Dataset 2 : Movies\n",
    "\n",
    "import numpy as np\n",
    "import time\n",
    "import pandas as pd\n",
    "import io\n",
    "import matplotlib.pyplot as plt\n",
    "\n",
    "# Feature selection\n",
    "from sklearn.random_projection import GaussianRandomProjection\n",
    "# will be used to convert string into float\n",
    "from sklearn.preprocessing import LabelEncoder\n",
    "labelencoder_X = LabelEncoder()\n",
    "\n",
    "#dataset\n",
    "a = io.open('Movie Dataset.csv', encoding='latin-1')\n",
    "df = pd.read_csv(a)\n",
    "df = df.take([i for i in range(1300)], axis = 0)\n",
    "df = df.apply(LabelEncoder().fit_transform)\n",
    "\n",
    "#input\n",
    "X = df.drop(columns=['Awards'])\n",
    "\n",
    "#output\n",
    "y = df['Awards']"
   ]
  },
  {
   "cell_type": "code",
   "execution_count": 2,
   "id": "a3bb2d6b",
   "metadata": {},
   "outputs": [],
   "source": [
    "# preprocessing StandardScaler\n",
    "from sklearn.preprocessing import StandardScaler\n",
    "\n",
    "# Create the object \n",
    "scaler = StandardScaler()\n",
    "# Calculate the mean and the standard deviation\n",
    "scaler.fit(X)\n",
    "# Transform the values\n",
    "X_scaled = scaler.transform(X)"
   ]
  },
  {
   "cell_type": "code",
   "execution_count": 6,
   "id": "2065381d",
   "metadata": {},
   "outputs": [
    {
     "name": "stdout",
     "output_type": "stream",
     "text": [
      "(1300, 8)\n",
      "(1300, 8)\n",
      "(1300, 8)\n",
      "(1300, 8)\n",
      "(1300, 8)\n",
      "(1300, 8)\n",
      "(1300, 8)\n",
      "(1300, 8)\n",
      "time for running the algorithm = 0.03858342900275602 s\n"
     ]
    },
    {
     "data": {
      "image/png": "[encoded data removed]",
      "text/plain": [
       "<Figure size 432x288 with 1 Axes>"
      ]
     },
     "metadata": {
      "needs_background": "light"
     },
     "output_type": "display_data"
    }
   ],
   "source": [
    "#import necessary libraries\n",
    "from sklearn.metrics import mean_squared_error\n",
    "from math import sqrt\n",
    "\n",
    "time1 = time.perf_counter()\n",
    "\n",
    "Reconstruction_rmse = []\n",
    "\n",
    "#calculate RMSE\n",
    "for i in range(1,9):\n",
    "    grp = GaussianRandomProjection(n_components = i,random_state = 42)\n",
    "    X_grp = grp.fit_transform(X_scaled)\n",
    "    X_back = grp.inverse_transform(X_grp)\n",
    "    print(X_back.shape)\n",
    "    Reconstruction_rmse.append(sqrt(mean_squared_error(X_back,X_scaled)))\n",
    "    \n",
    "time2 = time.perf_counter()\n",
    "timeA = time2 - time1\n",
    "print('time for running the algorithm =',timeA,'s')\n",
    "    \n",
    "number_of_clusters = [i for i in range(1,9)]\n",
    "fig, ax = plt.subplots()\n",
    "ax.set_title('Reconstruction score of dataset 2')\n",
    "ax.set_xlabel('Number of components')\n",
    "ax.set_ylabel('rmse')\n",
    "ax.plot(number_of_clusters, Reconstruction_rmse, marker=\".\", label=\"Reconstruction_rmse\")\n",
    "ax.legend()\n",
    "plt.show()"
   ]
  },
  {
   "cell_type": "code",
   "execution_count": 10,
   "id": "7641498c",
   "metadata": {},
   "outputs": [
    {
     "name": "stdout",
     "output_type": "stream",
     "text": [
      "(1300, 8)\n"
     ]
    }
   ],
   "source": [
    "grp = GaussianRandomProjection(n_components = 8,random_state = 42)\n",
    "X_grp = grp.fit_transform(X_scaled)\n",
    "print(X_grp.shape)"
   ]
  },
  {
   "cell_type": "code",
   "execution_count": 12,
   "id": "a667c4b3",
   "metadata": {},
   "outputs": [
    {
     "data": {
      "text/html": [
       "<div>\n",
       "<style scoped>\n",
       "    .dataframe tbody tr th:only-of-type {\n",
       "        vertical-align: middle;\n",
       "    }\n",
       "\n",
       "    .dataframe tbody tr th {\n",
       "        vertical-align: top;\n",
       "    }\n",
       "\n",
       "    .dataframe thead th {\n",
       "        text-align: right;\n",
       "    }\n",
       "</style>\n",
       "<table border=\"1\" class=\"dataframe\">\n",
       "  <thead>\n",
       "    <tr style=\"text-align: right;\">\n",
       "      <th></th>\n",
       "      <th>PC1</th>\n",
       "      <th>PC2</th>\n",
       "      <th>PC3</th>\n",
       "      <th>PC4</th>\n",
       "      <th>PC5</th>\n",
       "      <th>PC6</th>\n",
       "      <th>PC7</th>\n",
       "      <th>Awards</th>\n",
       "    </tr>\n",
       "  </thead>\n",
       "  <tbody>\n",
       "    <tr>\n",
       "      <th>0</th>\n",
       "      <td>-0.320857</td>\n",
       "      <td>1.621399</td>\n",
       "      <td>-1.552120</td>\n",
       "      <td>0.638862</td>\n",
       "      <td>2.545385</td>\n",
       "      <td>2.099864</td>\n",
       "      <td>-0.023808</td>\n",
       "      <td>0</td>\n",
       "    </tr>\n",
       "    <tr>\n",
       "      <th>1</th>\n",
       "      <td>-0.704362</td>\n",
       "      <td>1.910944</td>\n",
       "      <td>-0.935956</td>\n",
       "      <td>1.250628</td>\n",
       "      <td>2.056800</td>\n",
       "      <td>2.080472</td>\n",
       "      <td>-0.300652</td>\n",
       "      <td>0</td>\n",
       "    </tr>\n",
       "    <tr>\n",
       "      <th>2</th>\n",
       "      <td>0.021072</td>\n",
       "      <td>1.564530</td>\n",
       "      <td>0.065466</td>\n",
       "      <td>1.260807</td>\n",
       "      <td>1.378952</td>\n",
       "      <td>0.358339</td>\n",
       "      <td>-0.692125</td>\n",
       "      <td>0</td>\n",
       "    </tr>\n",
       "    <tr>\n",
       "      <th>3</th>\n",
       "      <td>-1.037906</td>\n",
       "      <td>1.749980</td>\n",
       "      <td>1.242438</td>\n",
       "      <td>-0.331798</td>\n",
       "      <td>1.068584</td>\n",
       "      <td>0.717149</td>\n",
       "      <td>-0.799427</td>\n",
       "      <td>0</td>\n",
       "    </tr>\n",
       "    <tr>\n",
       "      <th>4</th>\n",
       "      <td>-0.202053</td>\n",
       "      <td>1.252274</td>\n",
       "      <td>0.658773</td>\n",
       "      <td>-0.168924</td>\n",
       "      <td>0.945020</td>\n",
       "      <td>0.277124</td>\n",
       "      <td>-0.296374</td>\n",
       "      <td>0</td>\n",
       "    </tr>\n",
       "  </tbody>\n",
       "</table>\n",
       "</div>"
      ],
      "text/plain": [
       "        PC1       PC2       PC3       PC4       PC5       PC6       PC7  \\\n",
       "0 -0.320857  1.621399 -1.552120  0.638862  2.545385  2.099864 -0.023808   \n",
       "1 -0.704362  1.910944 -0.935956  1.250628  2.056800  2.080472 -0.300652   \n",
       "2  0.021072  1.564530  0.065466  1.260807  1.378952  0.358339 -0.692125   \n",
       "3 -1.037906  1.749980  1.242438 -0.331798  1.068584  0.717149 -0.799427   \n",
       "4 -0.202053  1.252274  0.658773 -0.168924  0.945020  0.277124 -0.296374   \n",
       "\n",
       "   Awards  \n",
       "0       0  \n",
       "1       0  \n",
       "2       0  \n",
       "3       0  \n",
       "4       0  "
      ]
     },
     "execution_count": 12,
     "metadata": {},
     "output_type": "execute_result"
    }
   ],
   "source": [
    "# New dataframe\n",
    "\n",
    "df_new = pd.DataFrame(X_grp, columns =['PC1','PC2','PC3','PC4','PC5'\n",
    "                                         ,'PC6','PC7','PC8'] )\n",
    "df_new = df_new.drop(columns=['PC8'])\n",
    "\n",
    "df_new['Awards'] = df.Awards\n",
    "df_new.head()"
   ]
  },
  {
   "cell_type": "code",
   "execution_count": 14,
   "id": "542dea09",
   "metadata": {},
   "outputs": [],
   "source": [
    "# save the data\n",
    "df_new.to_csv('Movie_grp.csv', index=False)"
   ]
  },
  {
   "cell_type": "code",
   "execution_count": null,
   "id": "92efeb37",
   "metadata": {},
   "outputs": [],
   "source": []
  }
 ],
 "metadata": {
  "kernelspec": {
   "display_name": "Python 3 (ipykernel)",
   "language": "python",
   "name": "python3"
  },
  "language_info": {
   "codemirror_mode": {
    "name": "ipython",
    "version": 3
   },
   "file_extension": ".py",
   "mimetype": "text/x-python",
   "name": "python",
   "nbconvert_exporter": "python",
   "pygments_lexer": "ipython3",
   "version": "3.9.7"
  }
 },
 "nbformat": 4,
 "nbformat_minor": 5
}
