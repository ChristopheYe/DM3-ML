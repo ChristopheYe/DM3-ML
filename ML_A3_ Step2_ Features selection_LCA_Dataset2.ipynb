{
 "cells": [
  {
   "cell_type": "code",
   "execution_count": 4,
   "id": "ba0d1241",
   "metadata": {},
   "outputs": [],
   "source": [
    "# Dataset 2 : Movies\n",
    "\n",
    "import numpy as np\n",
    "import time\n",
    "import pandas as pd\n",
    "import io\n",
    "import matplotlib.pyplot as plt\n",
    "\n",
    "# decision tree for feature importance on a classification problem\n",
    "from sklearn.datasets import make_classification\n",
    "from sklearn.tree import DecisionTreeClassifier\n",
    "# will be used to convert string into float\n",
    "from sklearn.preprocessing import LabelEncoder\n",
    "labelencoder_X = LabelEncoder()\n",
    "\n",
    "#dataset\n",
    "a = io.open('Movie Dataset.csv', encoding='latin-1')\n",
    "df = pd.read_csv(a)\n",
    "df = df.take([i for i in range(1300)], axis = 0)\n",
    "df = df.apply(LabelEncoder().fit_transform)\n",
    "\n",
    "#input\n",
    "X = df.drop(columns=['Awards'])\n",
    "\n",
    "#output\n",
    "y = df['Awards']"
   ]
  },
  {
   "cell_type": "code",
   "execution_count": 5,
   "id": "c44a4fa7",
   "metadata": {},
   "outputs": [],
   "source": [
    "# preprocessing StandardScaler\n",
    "from sklearn.preprocessing import StandardScaler\n",
    "\n",
    "# Create the object \n",
    "scaler = StandardScaler()\n",
    "# Calculate the mean and the standard deviation\n",
    "scaler.fit(X)\n",
    "# Transform the values\n",
    "X_scaled = scaler.transform(X)"
   ]
  },
  {
   "cell_type": "code",
   "execution_count": 10,
   "id": "78fe6a98",
   "metadata": {},
   "outputs": [
    {
     "name": "stdout",
     "output_type": "stream",
     "text": [
      "Feature: 0, Score: 0.14212\n",
      "Feature: 1, Score: 0.12060\n",
      "Feature: 2, Score: 0.12698\n",
      "Feature: 3, Score: 0.03525\n",
      "Feature: 4, Score: 0.21223\n",
      "Feature: 5, Score: 0.11205\n",
      "Feature: 6, Score: 0.09920\n",
      "Feature: 7, Score: 0.15158\n",
      "time for running the algorithm = 0.026002126000093995 s\n"
     ]
    },
    {
     "data": {
      "image/png": "[encoded data removed]",
      "text/plain": [
       "<Figure size 432x288 with 1 Axes>"
      ]
     },
     "metadata": {
      "needs_background": "light"
     },
     "output_type": "display_data"
    }
   ],
   "source": [
    "from matplotlib import pyplot\n",
    "\n",
    "time1 = time.perf_counter()\n",
    "\n",
    "# define the model\n",
    "model = DecisionTreeClassifier()\n",
    "# fit the model\n",
    "model.fit(X_scaled, y)\n",
    "# get importance\n",
    "importance = model.feature_importances_\n",
    "# summarize feature importance\n",
    "for i,v in enumerate(importance):\n",
    "\tprint('Feature: %0d, Score: %.5f' % (i,v))\n",
    "    \n",
    "time2 = time.perf_counter()\n",
    "timeA = time2 - time1\n",
    "print('time for running the algorithm =',timeA,'s')\n",
    "\n",
    "# plot feature importance\n",
    "pyplot.bar([x for x in range(len(importance))], importance)\n",
    "pyplot.xlabel('Features')\n",
    "pyplot.ylabel('Score')\n",
    "pyplot.title('Feature importance for dataset 2')\n",
    "pyplot.show()"
   ]
  },
  {
   "cell_type": "code",
   "execution_count": 7,
   "id": "0a5a2298",
   "metadata": {},
   "outputs": [
    {
     "data": {
      "text/html": [
       "<div>\n",
       "<style scoped>\n",
       "    .dataframe tbody tr th:only-of-type {\n",
       "        vertical-align: middle;\n",
       "    }\n",
       "\n",
       "    .dataframe tbody tr th {\n",
       "        vertical-align: top;\n",
       "    }\n",
       "\n",
       "    .dataframe thead th {\n",
       "        text-align: right;\n",
       "    }\n",
       "</style>\n",
       "<table border=\"1\" class=\"dataframe\">\n",
       "  <thead>\n",
       "    <tr style=\"text-align: right;\">\n",
       "      <th></th>\n",
       "      <th>Year</th>\n",
       "      <th>Length</th>\n",
       "      <th>Title</th>\n",
       "      <th>Actor</th>\n",
       "      <th>Actress</th>\n",
       "      <th>Director</th>\n",
       "      <th>Popularity</th>\n",
       "      <th>Awards</th>\n",
       "    </tr>\n",
       "  </thead>\n",
       "  <tbody>\n",
       "    <tr>\n",
       "      <th>0</th>\n",
       "      <td>67</td>\n",
       "      <td>65</td>\n",
       "      <td>1161</td>\n",
       "      <td>30</td>\n",
       "      <td>0</td>\n",
       "      <td>8</td>\n",
       "      <td>68</td>\n",
       "      <td>0</td>\n",
       "    </tr>\n",
       "    <tr>\n",
       "      <th>1</th>\n",
       "      <td>68</td>\n",
       "      <td>67</td>\n",
       "      <td>550</td>\n",
       "      <td>69</td>\n",
       "      <td>0</td>\n",
       "      <td>8</td>\n",
       "      <td>68</td>\n",
       "      <td>0</td>\n",
       "    </tr>\n",
       "    <tr>\n",
       "      <th>2</th>\n",
       "      <td>60</td>\n",
       "      <td>58</td>\n",
       "      <td>317</td>\n",
       "      <td>620</td>\n",
       "      <td>1</td>\n",
       "      <td>151</td>\n",
       "      <td>79</td>\n",
       "      <td>0</td>\n",
       "    </tr>\n",
       "    <tr>\n",
       "      <th>3</th>\n",
       "      <td>56</td>\n",
       "      <td>76</td>\n",
       "      <td>299</td>\n",
       "      <td>127</td>\n",
       "      <td>1</td>\n",
       "      <td>367</td>\n",
       "      <td>6</td>\n",
       "      <td>0</td>\n",
       "    </tr>\n",
       "    <tr>\n",
       "      <th>4</th>\n",
       "      <td>55</td>\n",
       "      <td>48</td>\n",
       "      <td>313</td>\n",
       "      <td>241</td>\n",
       "      <td>1</td>\n",
       "      <td>393</td>\n",
       "      <td>14</td>\n",
       "      <td>0</td>\n",
       "    </tr>\n",
       "  </tbody>\n",
       "</table>\n",
       "</div>"
      ],
      "text/plain": [
       "   Year  Length  Title  Actor  Actress  Director  Popularity  Awards\n",
       "0    67      65   1161     30        0         8          68       0\n",
       "1    68      67    550     69        0         8          68       0\n",
       "2    60      58    317    620        1       151          79       0\n",
       "3    56      76    299    127        1       367           6       0\n",
       "4    55      48    313    241        1       393          14       0"
      ]
     },
     "execution_count": 7,
     "metadata": {},
     "output_type": "execute_result"
    }
   ],
   "source": [
    "df_new = df.drop(columns=['Subject'])\n",
    "df_new.head()"
   ]
  },
  {
   "cell_type": "code",
   "execution_count": 11,
   "id": "b7a1e7fc",
   "metadata": {},
   "outputs": [],
   "source": [
    "# save the data\n",
    "df_new.to_csv('Movie_DT.csv', index=False)"
   ]
  },
  {
   "cell_type": "code",
   "execution_count": null,
   "id": "b7539818",
   "metadata": {},
   "outputs": [],
   "source": []
  }
 ],
 "metadata": {
  "kernelspec": {
   "display_name": "Python 3 (ipykernel)",
   "language": "python",
   "name": "python3"
  },
  "language_info": {
   "codemirror_mode": {
    "name": "ipython",
    "version": 3
   },
   "file_extension": ".py",
   "mimetype": "text/x-python",
   "name": "python",
   "nbconvert_exporter": "python",
   "pygments_lexer": "ipython3",
   "version": "3.9.7"
  }
 },
 "nbformat": 4,
 "nbformat_minor": 5
}
